{
 "cells": [
  {
   "cell_type": "markdown",
   "metadata": {},
   "source": [
    "# Homework 3"
   ]
  },
  {
   "cell_type": "code",
   "execution_count": 1,
   "metadata": {},
   "outputs": [],
   "source": [
    "from pandas import Series, DataFrame\n",
    "import pandas as pd\n",
    "\n",
    "import statsmodels.api as sm\n",
    "from patsy import dmatrices\n",
    "\n",
    "import matplotlib.pyplot as plt\n",
    "\n"
   ]
  },
  {
   "cell_type": "markdown",
   "metadata": {},
   "source": [
    "[Q1 8 points] Read the data. Read in the data from http://www.stat.ufl.edu/~winner/data/clinton1.dat. Note that this is NOT a CSV file. The description of the data fields are present in http://www.stat.ufl.edu/~winner/data/clinton1.txt. You will have to figure out the right parameters for the read csv command yourself (e.g., the regular expression for the delimiter, and the names of the columns)."
   ]
  },
  {
   "cell_type": "code",
   "execution_count": 2,
   "metadata": {},
   "outputs": [
    {
     "name": "stderr",
     "output_type": "stream",
     "text": [
      "C:\\Users\\jerry\\Anaconda3\\envs\\CS 329E\\lib\\site-packages\\ipykernel_launcher.py:3: ParserWarning: Falling back to the 'python' engine because the 'c' engine does not support regex separators (separators > 1 char and different from '\\s+' are interpreted as regex); you can avoid this warning by specifying engine='python'.\n",
      "  This is separate from the ipykernel package so we can avoid doing imports until\n"
     ]
    },
    {
     "data": {
      "text/html": [
       "<div>\n",
       "<style scoped>\n",
       "    .dataframe tbody tr th:only-of-type {\n",
       "        vertical-align: middle;\n",
       "    }\n",
       "\n",
       "    .dataframe tbody tr th {\n",
       "        vertical-align: top;\n",
       "    }\n",
       "\n",
       "    .dataframe thead th {\n",
       "        text-align: right;\n",
       "    }\n",
       "</style>\n",
       "<table border=\"1\" class=\"dataframe\">\n",
       "  <thead>\n",
       "    <tr style=\"text-align: right;\">\n",
       "      <th></th>\n",
       "      <th>Country Name</th>\n",
       "      <th>State</th>\n",
       "      <th>percentVoting</th>\n",
       "      <th>MedianAge</th>\n",
       "      <th>MeanSavings</th>\n",
       "      <th>PerCapitaIncome</th>\n",
       "      <th>PercentinPoverty</th>\n",
       "      <th>PercentVeterans</th>\n",
       "      <th>PercentFemale</th>\n",
       "      <th>PopulationDensity</th>\n",
       "      <th>PercentinNursingHomes</th>\n",
       "      <th>CrimeIndex</th>\n",
       "    </tr>\n",
       "  </thead>\n",
       "  <tbody>\n",
       "    <tr>\n",
       "      <th>0</th>\n",
       "      <td>Autauga</td>\n",
       "      <td>AL</td>\n",
       "      <td>30.92</td>\n",
       "      <td>31.7</td>\n",
       "      <td>57623</td>\n",
       "      <td>15768.0</td>\n",
       "      <td>15.2</td>\n",
       "      <td>10.74</td>\n",
       "      <td>51.41</td>\n",
       "      <td>60.4</td>\n",
       "      <td>2.36</td>\n",
       "      <td>457.0</td>\n",
       "    </tr>\n",
       "    <tr>\n",
       "      <th>1</th>\n",
       "      <td>Baldwin</td>\n",
       "      <td>AL</td>\n",
       "      <td>26.24</td>\n",
       "      <td>35.5</td>\n",
       "      <td>84935</td>\n",
       "      <td>16954.0</td>\n",
       "      <td>13.6</td>\n",
       "      <td>9.73</td>\n",
       "      <td>51.34</td>\n",
       "      <td>66.5</td>\n",
       "      <td>5.40</td>\n",
       "      <td>282.0</td>\n",
       "    </tr>\n",
       "    <tr>\n",
       "      <th>2</th>\n",
       "      <td>Barbour</td>\n",
       "      <td>AL</td>\n",
       "      <td>46.36</td>\n",
       "      <td>32.8</td>\n",
       "      <td>83656</td>\n",
       "      <td>15532.0</td>\n",
       "      <td>25.0</td>\n",
       "      <td>8.82</td>\n",
       "      <td>53.03</td>\n",
       "      <td>28.8</td>\n",
       "      <td>7.02</td>\n",
       "      <td>47.0</td>\n",
       "    </tr>\n",
       "    <tr>\n",
       "      <th>3</th>\n",
       "      <td>Blount</td>\n",
       "      <td>AL</td>\n",
       "      <td>32.92</td>\n",
       "      <td>34.5</td>\n",
       "      <td>61249</td>\n",
       "      <td>14820.0</td>\n",
       "      <td>15.0</td>\n",
       "      <td>9.67</td>\n",
       "      <td>51.15</td>\n",
       "      <td>62.4</td>\n",
       "      <td>2.36</td>\n",
       "      <td>185.0</td>\n",
       "    </tr>\n",
       "    <tr>\n",
       "      <th>4</th>\n",
       "      <td>Bullock</td>\n",
       "      <td>AL</td>\n",
       "      <td>67.67</td>\n",
       "      <td>31.7</td>\n",
       "      <td>75725</td>\n",
       "      <td>11120.0</td>\n",
       "      <td>33.0</td>\n",
       "      <td>7.08</td>\n",
       "      <td>50.76</td>\n",
       "      <td>17.6</td>\n",
       "      <td>2.91</td>\n",
       "      <td>141.0</td>\n",
       "    </tr>\n",
       "    <tr>\n",
       "      <th>5</th>\n",
       "      <td>Butler</td>\n",
       "      <td>AL</td>\n",
       "      <td>47.43</td>\n",
       "      <td>33.5</td>\n",
       "      <td>75887</td>\n",
       "      <td>12015.0</td>\n",
       "      <td>27.1</td>\n",
       "      <td>9.48</td>\n",
       "      <td>53.25</td>\n",
       "      <td>28.1</td>\n",
       "      <td>7.98</td>\n",
       "      <td>266.0</td>\n",
       "    </tr>\n",
       "    <tr>\n",
       "      <th>6</th>\n",
       "      <td>Calhoun</td>\n",
       "      <td>AL</td>\n",
       "      <td>38.44</td>\n",
       "      <td>32.7</td>\n",
       "      <td>76073</td>\n",
       "      <td>15162.0</td>\n",
       "      <td>18.0</td>\n",
       "      <td>11.95</td>\n",
       "      <td>51.66</td>\n",
       "      <td>190.8</td>\n",
       "      <td>4.81</td>\n",
       "      <td>560.0</td>\n",
       "    </tr>\n",
       "    <tr>\n",
       "      <th>7</th>\n",
       "      <td>Chambers</td>\n",
       "      <td>AL</td>\n",
       "      <td>45.36</td>\n",
       "      <td>34.8</td>\n",
       "      <td>40498</td>\n",
       "      <td>13887.0</td>\n",
       "      <td>18.8</td>\n",
       "      <td>10.52</td>\n",
       "      <td>52.77</td>\n",
       "      <td>62.1</td>\n",
       "      <td>6.15</td>\n",
       "      <td>218.0</td>\n",
       "    </tr>\n",
       "    <tr>\n",
       "      <th>8</th>\n",
       "      <td>Cherokee</td>\n",
       "      <td>AL</td>\n",
       "      <td>53.61</td>\n",
       "      <td>36.3</td>\n",
       "      <td>56386</td>\n",
       "      <td>13936.0</td>\n",
       "      <td>15.4</td>\n",
       "      <td>9.29</td>\n",
       "      <td>50.82</td>\n",
       "      <td>35.8</td>\n",
       "      <td>5.61</td>\n",
       "      <td>51.0</td>\n",
       "    </tr>\n",
       "    <tr>\n",
       "      <th>9</th>\n",
       "      <td>Chilton</td>\n",
       "      <td>AL</td>\n",
       "      <td>34.19</td>\n",
       "      <td>34.0</td>\n",
       "      <td>52230</td>\n",
       "      <td>14036.0</td>\n",
       "      <td>18.6</td>\n",
       "      <td>9.48</td>\n",
       "      <td>51.41</td>\n",
       "      <td>47.8</td>\n",
       "      <td>3.58</td>\n",
       "      <td>296.0</td>\n",
       "    </tr>\n",
       "    <tr>\n",
       "      <th>10</th>\n",
       "      <td>Choctaw</td>\n",
       "      <td>AL</td>\n",
       "      <td>52.13</td>\n",
       "      <td>32.9</td>\n",
       "      <td>81367</td>\n",
       "      <td>13423.0</td>\n",
       "      <td>25.0</td>\n",
       "      <td>9.94</td>\n",
       "      <td>52.54</td>\n",
       "      <td>17.6</td>\n",
       "      <td>4.16</td>\n",
       "      <td>29.0</td>\n",
       "    </tr>\n",
       "    <tr>\n",
       "      <th>11</th>\n",
       "      <td>Clarke</td>\n",
       "      <td>AL</td>\n",
       "      <td>42.87</td>\n",
       "      <td>31.7</td>\n",
       "      <td>87444</td>\n",
       "      <td>13750.0</td>\n",
       "      <td>24.4</td>\n",
       "      <td>8.79</td>\n",
       "      <td>52.18</td>\n",
       "      <td>22.4</td>\n",
       "      <td>5.07</td>\n",
       "      <td>105.0</td>\n",
       "    </tr>\n",
       "    <tr>\n",
       "      <th>12</th>\n",
       "      <td>Cleburne</td>\n",
       "      <td>AL</td>\n",
       "      <td>40.94</td>\n",
       "      <td>34.1</td>\n",
       "      <td>63458</td>\n",
       "      <td>14168.0</td>\n",
       "      <td>15.6</td>\n",
       "      <td>8.58</td>\n",
       "      <td>50.71</td>\n",
       "      <td>23.2</td>\n",
       "      <td>5.00</td>\n",
       "      <td>203.0</td>\n",
       "    </tr>\n",
       "    <tr>\n",
       "      <th>13</th>\n",
       "      <td>Coffee</td>\n",
       "      <td>AL</td>\n",
       "      <td>37.19</td>\n",
       "      <td>34.1</td>\n",
       "      <td>79268</td>\n",
       "      <td>17318.0</td>\n",
       "      <td>14.9</td>\n",
       "      <td>10.40</td>\n",
       "      <td>50.99</td>\n",
       "      <td>60.5</td>\n",
       "      <td>5.72</td>\n",
       "      <td>357.0</td>\n",
       "    </tr>\n",
       "    <tr>\n",
       "      <th>14</th>\n",
       "      <td>Colbert</td>\n",
       "      <td>AL</td>\n",
       "      <td>54.40</td>\n",
       "      <td>35.7</td>\n",
       "      <td>71629</td>\n",
       "      <td>15705.0</td>\n",
       "      <td>15.3</td>\n",
       "      <td>11.87</td>\n",
       "      <td>51.97</td>\n",
       "      <td>88.0</td>\n",
       "      <td>5.43</td>\n",
       "      <td>330.0</td>\n",
       "    </tr>\n",
       "  </tbody>\n",
       "</table>\n",
       "</div>"
      ],
      "text/plain": [
       "   Country Name State  percentVoting  MedianAge  MeanSavings  PerCapitaIncome  \\\n",
       "0       Autauga    AL          30.92       31.7        57623          15768.0   \n",
       "1       Baldwin    AL          26.24       35.5        84935          16954.0   \n",
       "2       Barbour    AL          46.36       32.8        83656          15532.0   \n",
       "3        Blount    AL          32.92       34.5        61249          14820.0   \n",
       "4       Bullock    AL          67.67       31.7        75725          11120.0   \n",
       "5        Butler    AL          47.43       33.5        75887          12015.0   \n",
       "6       Calhoun    AL          38.44       32.7        76073          15162.0   \n",
       "7      Chambers    AL          45.36       34.8        40498          13887.0   \n",
       "8      Cherokee    AL          53.61       36.3        56386          13936.0   \n",
       "9       Chilton    AL          34.19       34.0        52230          14036.0   \n",
       "10      Choctaw    AL          52.13       32.9        81367          13423.0   \n",
       "11       Clarke    AL          42.87       31.7        87444          13750.0   \n",
       "12     Cleburne    AL          40.94       34.1        63458          14168.0   \n",
       "13       Coffee    AL          37.19       34.1        79268          17318.0   \n",
       "14      Colbert    AL          54.40       35.7        71629          15705.0   \n",
       "\n",
       "    PercentinPoverty  PercentVeterans  PercentFemale  PopulationDensity  \\\n",
       "0               15.2            10.74          51.41               60.4   \n",
       "1               13.6             9.73          51.34               66.5   \n",
       "2               25.0             8.82          53.03               28.8   \n",
       "3               15.0             9.67          51.15               62.4   \n",
       "4               33.0             7.08          50.76               17.6   \n",
       "5               27.1             9.48          53.25               28.1   \n",
       "6               18.0            11.95          51.66              190.8   \n",
       "7               18.8            10.52          52.77               62.1   \n",
       "8               15.4             9.29          50.82               35.8   \n",
       "9               18.6             9.48          51.41               47.8   \n",
       "10              25.0             9.94          52.54               17.6   \n",
       "11              24.4             8.79          52.18               22.4   \n",
       "12              15.6             8.58          50.71               23.2   \n",
       "13              14.9            10.40          50.99               60.5   \n",
       "14              15.3            11.87          51.97               88.0   \n",
       "\n",
       "    PercentinNursingHomes  CrimeIndex  \n",
       "0                    2.36       457.0  \n",
       "1                    5.40       282.0  \n",
       "2                    7.02        47.0  \n",
       "3                    2.36       185.0  \n",
       "4                    2.91       141.0  \n",
       "5                    7.98       266.0  \n",
       "6                    4.81       560.0  \n",
       "7                    6.15       218.0  \n",
       "8                    5.61        51.0  \n",
       "9                    3.58       296.0  \n",
       "10                   4.16        29.0  \n",
       "11                   5.07       105.0  \n",
       "12                   5.00       203.0  \n",
       "13                   5.72       357.0  \n",
       "14                   5.43       330.0  "
      ]
     },
     "execution_count": 2,
     "metadata": {},
     "output_type": "execute_result"
    }
   ],
   "source": [
    "names = ['Country Name','State','percentVoting','MedianAge','MeanSavings','PerCapitaIncome',\\\n",
    "         'PercentinPoverty','PercentVeterans','PercentFemale','PopulationDensity','PercentinNursingHomes',\\\n",
    "         'CrimeIndex']\n",
    "\n",
    "clinton = pd.read_csv('http://www.stat.ufl.edu/~winner/data/clinton1.dat',header = None, sep=\"\\s\\s+|,\",names = names)\n",
    "\n",
    "clinton.head(15)"
   ]
  },
  {
   "cell_type": "markdown",
   "metadata": {},
   "source": [
    "[Q2 8 points] Predict percentVoting on all regressors. One of the fields in the data is “Percent voting for Clinton in 1992”; let’s call it percentVoting. Regress percentVoting on all available regressors. Which two regressors have the worst p-values?"
   ]
  },
  {
   "cell_type": "code",
   "execution_count": 3,
   "metadata": {},
   "outputs": [
    {
     "name": "stdout",
     "output_type": "stream",
     "text": [
      "                            OLS Regression Results                            \n",
      "==============================================================================\n",
      "Dep. Variable:          percentVoting   R-squared:                       0.324\n",
      "Model:                            OLS   Adj. R-squared:                  0.322\n",
      "Method:                 Least Squares   F-statistic:                     143.4\n",
      "Date:                Fri, 26 Apr 2019   Prob (F-statistic):          1.71e-221\n",
      "Time:                        12:17:19   Log-Likelihood:                -9569.0\n",
      "No. Observations:                2703   AIC:                         1.916e+04\n",
      "Df Residuals:                    2693   BIC:                         1.922e+04\n",
      "Df Model:                           9                                         \n",
      "Covariance Type:            nonrobust                                         \n",
      "=========================================================================================\n",
      "                            coef    std err          t      P>|t|      [0.025      0.975]\n",
      "-----------------------------------------------------------------------------------------\n",
      "Intercept               -38.2492      5.811     -6.583      0.000     -49.643     -26.856\n",
      "MeanSavings           -3.082e-05   4.92e-06     -6.265      0.000   -4.05e-05   -2.12e-05\n",
      "MedianAge                 0.0702      0.060      1.172      0.241      -0.047       0.188\n",
      "PerCapitaIncome           0.0002   7.42e-05      2.313      0.021    2.61e-05       0.000\n",
      "PercentinPoverty          0.7642      0.035     22.058      0.000       0.696       0.832\n",
      "PercentVeterans           0.3080      0.087      3.550      0.000       0.138       0.478\n",
      "PercentFemale             1.1863      0.118     10.014      0.000       0.954       1.419\n",
      "PopulationDensity         0.0018      0.000      9.109      0.000       0.001       0.002\n",
      "PercentinNursingHomes    -0.0911      0.032     -2.806      0.005      -0.155      -0.027\n",
      "CrimeIndex               -0.0013      0.001     -1.452      0.146      -0.003       0.000\n",
      "==============================================================================\n",
      "Omnibus:                       20.211   Durbin-Watson:                   1.360\n",
      "Prob(Omnibus):                  0.000   Jarque-Bera (JB):               24.357\n",
      "Skew:                           0.133   Prob(JB):                     5.14e-06\n",
      "Kurtosis:                       3.382   Cond. No.                     3.62e+06\n",
      "==============================================================================\n",
      "\n",
      "Warnings:\n",
      "[1] Standard Errors assume that the covariance matrix of the errors is correctly specified.\n",
      "[2] The condition number is large, 3.62e+06. This might indicate that there are\n",
      "strong multicollinearity or other numerical problems.\n"
     ]
    },
    {
     "data": {
      "text/plain": [
       "'The two worst p-values are Median Age and CrimeIndex'"
      ]
     },
     "execution_count": 3,
     "metadata": {},
     "output_type": "execute_result"
    }
   ],
   "source": [
    "# Step 1: Create design matrices\n",
    "y, X = dmatrices('percentVoting ~ MeanSavings + MedianAge + PerCapitaIncome + PercentinPoverty + PercentVeterans + PercentFemale + PopulationDensity + PercentinNursingHomes + CrimeIndex', data=clinton, return_type='dataframe')\n",
    "y[:3]\n",
    "\n",
    "#Step 2: Run the Regression\n",
    "model = sm.OLS(y, X)       # Set up the model\n",
    "result = model.fit()       # Fit model (find the intercept and slopes)\n",
    "print result.summary()\n",
    "\n",
    "\n",
    "'''The two worst p-values are Median Age and CrimeIndex'''"
   ]
  },
  {
   "cell_type": "markdown",
   "metadata": {},
   "source": [
    "[Q3 8 points] A formula-creating function. Write a function called\n",
    "formula that takes a list of regressors as input, and outputs the formula for\n",
    "regressing percentVoting on these regressors.\n",
    "For example, formula([’age’, ’savings’]) should output\n",
    "percentVoting ∼ age + savings."
   ]
  },
  {
   "cell_type": "code",
   "execution_count": 4,
   "metadata": {},
   "outputs": [
    {
     "name": "stdout",
     "output_type": "stream",
     "text": [
      "percentVoting ~ age + savings + income\n"
     ]
    }
   ],
   "source": [
    "result.params\n",
    "\n",
    "def formula(regressors_list):\n",
    "    output = \"percentVoting ~ \"\n",
    "    for key,i in enumerate(regressors_list):\n",
    "        if key < len(regressors_list) - 1:\n",
    "            output += str(i) + \" + \"\n",
    "        else:\n",
    "            output += str(i)\n",
    "            \n",
    "        \n",
    "        \n",
    "    return output\n",
    "\n",
    "\n",
    "print(formula([\"age\",\"savings\",\"income\"]))\n",
    "        "
   ]
  },
  {
   "cell_type": "markdown",
   "metadata": {},
   "source": [
    "[Q4 8 points] R-squared computation function. Write a function\n",
    "called rsquared that, given a list of regressors, returns the R-squared corresponding to a regression of percentVoting with respect to the list of regressors. You can use the formula function you wrote above"
   ]
  },
  {
   "cell_type": "code",
   "execution_count": 5,
   "metadata": {},
   "outputs": [
    {
     "name": "stdout",
     "output_type": "stream",
     "text": [
      "0.0318482207228\n"
     ]
    }
   ],
   "source": [
    "def rsquared(regressors_list):\n",
    "    d_matrice = formula(regressors_list)\n",
    "    \n",
    "    y, X = dmatrices(d_matrice, data=clinton, return_type='dataframe')\n",
    "\n",
    "    #Step 2: Run the Regression\n",
    "    model = sm.OLS(y, X)       # Set up the model\n",
    "    result = model.fit()       # Fit model (find the intercept and slopes)\n",
    "    return result.rsquared\n",
    "    \n",
    "    \n",
    "r_squared = rsquared(['MedianAge','MeanSavings','CrimeIndex'])\n",
    "\n",
    "print(r_squared)\n",
    "    "
   ]
  },
  {
   "cell_type": "markdown",
   "metadata": {},
   "source": [
    "[Q5 8 points] Find the next best regressor. Write a function called\n",
    "best next regressor that, given a list of regressors (called current regressor list)\n",
    "and the list of all possible regressors (called all regressors list), picks one\n",
    "regressor from all regressors list that, when combined with the regressors in current regressor list, yields the highest R-square. The function\n",
    "should return this regressor, and the corresponding R-square"
   ]
  },
  {
   "cell_type": "code",
   "execution_count": 6,
   "metadata": {},
   "outputs": [
    {
     "name": "stdout",
     "output_type": "stream",
     "text": [
      "CrimeIndex\n",
      "0.323962210052\n"
     ]
    }
   ],
   "source": [
    "def best_next_regressor(current_regressor_list, all_regressors_list):\n",
    "    best_regressor = \"N/A\"\n",
    "    best_R_squared = 0\n",
    "\n",
    "    \n",
    "    for i in all_regressors_list:        \n",
    "        if i not in current_regressor_list:\n",
    "            current_regressor_list.append(i)\n",
    "\n",
    "            current_rsquared = rsquared(current_regressor_list)\n",
    "\n",
    "            if current_rsquared > best_R_squared:\n",
    "                best_R_squared = current_rsquared\n",
    "                best_regressor = i \n",
    "            else:\n",
    "                del current_regressor_list[-1]\n",
    "        \n",
    "    return best_regressor, best_R_squared\n",
    "\n",
    "\n",
    "regressor,r_squared = best_next_regressor(['MedianAge','MeanSavings'],['MedianAge','MeanSavings','PerCapitaIncome',\\\n",
    "         'PercentinPoverty','PercentVeterans','PercentFemale','PopulationDensity','PercentinNursingHomes',\n",
    "         'CrimeIndex'])\n",
    "    \n",
    "print(regressor)   \n",
    "print(r_squared)\n",
    "    \n",
    "    \n",
    "    #[\"MedianAge\",\"MeanSavings\"]"
   ]
  },
  {
   "cell_type": "markdown",
   "metadata": {},
   "source": [
    "[Q6 8 points] Pick the k best regressors. Write a function called\n",
    "best regressors that takes two arguments:\n",
    "• num regressors, which is the number of regressors we want, and\n",
    "• all regressors list, which again is the list of all possible regressors.\n",
    "The function should compute the best num regressors regressors by picking\n",
    "them one at a time using best next regressor that you wrote above. The\n",
    "function should return a tuple of the following items:\n",
    "• a list of the best regressors, in the order in which they were picked, and\n",
    "• the corresponding R-square values.\n",
    "In other words, you want a list of the results of calling best next regressor."
   ]
  },
  {
   "cell_type": "code",
   "execution_count": 14,
   "metadata": {},
   "outputs": [
    {
     "name": "stdout",
     "output_type": "stream",
     "text": [
      "PercentinNursingHomes\n",
      "10\n",
      "['CrimeIndex', 'MedianAge', 'MeanSavings', 'PerCapitaIncome', 'PercentinPoverty', 'PercentVeterans', 'PercentFemale', 'PopulationDensity', 'PercentinNursingHomes', 'PercentinNursingHomes']\n"
     ]
    }
   ],
   "source": [
    "def best_regressors (num_regressors,all_regressors_list):\n",
    "    list_of_results =[]\n",
    "    current_regressors_list = [\"CrimeIndex\"]\n",
    "    best_rsquared = 0\n",
    "    \n",
    "\n",
    "    while len(current_regressors_list) < num_regressors:\n",
    "        regressor,r_squared = best_next_regressor(current_regressors_list,all_regressors_list)\n",
    "        current_regressors_list.append(regressor)\n",
    "        print(regressor)\n",
    "        print(len(current_regressors_list))\n",
    "            \n",
    "            \n",
    "    return current_regressors_list\n",
    "\n",
    "\n",
    "print(best_regressors(4,['MedianAge','MeanSavings','PerCapitaIncome',\\\n",
    "         'PercentinPoverty','PercentVeterans','PercentFemale','PopulationDensity','PercentinNursingHomes',\n",
    "         'CrimeIndex']))\n"
   ]
  },
  {
   "cell_type": "markdown",
   "metadata": {},
   "source": [
    "[Q7 8 points] Order all regressors in the best order.Runbestregressorsto output all available regressors in sequence.  In other words, the first itemin the result should be the best single regressor, the second item should bethe next best regressor that combined with the first regressor gives the bestR-square, and so on.This idea of ordering the regressors in this particular order is calledfor-ward selection, and is one way of selecting only a few regressors when givena large set of regressors."
   ]
  },
  {
   "cell_type": "code",
   "execution_count": 13,
   "metadata": {},
   "outputs": [
    {
     "name": "stdout",
     "output_type": "stream",
     "text": [
      "PercentinNursingHomes\n",
      "10\n"
     ]
    },
    {
     "ename": "ValueError",
     "evalue": "too many values to unpack",
     "output_type": "error",
     "traceback": [
      "\u001b[1;31m---------------------------------------------------------------------------\u001b[0m",
      "\u001b[1;31mValueError\u001b[0m                                Traceback (most recent call last)",
      "\u001b[1;32m<ipython-input-13-5a88dcf303ea>\u001b[0m in \u001b[0;36m<module>\u001b[1;34m()\u001b[0m\n\u001b[0;32m      1\u001b[0m \u001b[0mregressors\u001b[0m \u001b[1;33m=\u001b[0m \u001b[1;33m[\u001b[0m\u001b[1;34m'MedianAge'\u001b[0m\u001b[1;33m,\u001b[0m\u001b[1;34m'MeanSavings'\u001b[0m\u001b[1;33m,\u001b[0m\u001b[1;34m'PerCapitaIncome'\u001b[0m\u001b[1;33m,\u001b[0m         \u001b[1;34m'PercentinPoverty'\u001b[0m\u001b[1;33m,\u001b[0m\u001b[1;34m'PercentVeterans'\u001b[0m\u001b[1;33m,\u001b[0m\u001b[1;34m'PercentFemale'\u001b[0m\u001b[1;33m,\u001b[0m\u001b[1;34m'PopulationDensity'\u001b[0m\u001b[1;33m,\u001b[0m\u001b[1;34m'PercentinNursingHomes'\u001b[0m\u001b[1;33m,\u001b[0m         \u001b[1;34m'CrimeIndex'\u001b[0m\u001b[1;33m]\u001b[0m\u001b[1;33m\u001b[0m\u001b[0m\n\u001b[0;32m      2\u001b[0m \u001b[1;33m\u001b[0m\u001b[0m\n\u001b[1;32m----> 3\u001b[1;33m \u001b[0morder_regressors\u001b[0m\u001b[1;33m,\u001b[0m \u001b[0morder_rsquared\u001b[0m \u001b[1;33m=\u001b[0m \u001b[1;33m(\u001b[0m\u001b[0mbest_regressors\u001b[0m\u001b[1;33m(\u001b[0m\u001b[0mlen\u001b[0m\u001b[1;33m(\u001b[0m\u001b[0mregressors\u001b[0m\u001b[1;33m)\u001b[0m\u001b[1;33m,\u001b[0m\u001b[0mregressors\u001b[0m\u001b[1;33m)\u001b[0m\u001b[1;33m)\u001b[0m\u001b[1;33m\u001b[0m\u001b[0m\n\u001b[0m\u001b[0;32m      4\u001b[0m \u001b[1;33m\u001b[0m\u001b[0m\n\u001b[0;32m      5\u001b[0m \u001b[1;32mprint\u001b[0m\u001b[1;33m(\u001b[0m\u001b[0morder_regressors\u001b[0m\u001b[1;33m)\u001b[0m\u001b[1;33m\u001b[0m\u001b[0m\n",
      "\u001b[1;31mValueError\u001b[0m: too many values to unpack"
     ]
    }
   ],
   "source": [
    "regressors = ['MedianAge','MeanSavings','PerCapitaIncome',\\\n",
    "         'PercentinPoverty','PercentVeterans','PercentFemale','PopulationDensity','PercentinNursingHomes',\\\n",
    "         'CrimeIndex']\n",
    "\n",
    "order_regressors, order_rsquared = (best_regressors(len(regressors),regressors))\n",
    "\n",
    "print(order_regressors)\n",
    "print(order_rsquared)"
   ]
  },
  {
   "cell_type": "code",
   "execution_count": 9,
   "metadata": {},
   "outputs": [
    {
     "ename": "NameError",
     "evalue": "name 'order_regressors' is not defined",
     "output_type": "error",
     "traceback": [
      "\u001b[1;31m---------------------------------------------------------------------------\u001b[0m",
      "\u001b[1;31mNameError\u001b[0m                                 Traceback (most recent call last)",
      "\u001b[1;32m<ipython-input-9-1c2e7aa75c85>\u001b[0m in \u001b[0;36m<module>\u001b[1;34m()\u001b[0m\n\u001b[0;32m      2\u001b[0m \u001b[1;33m\u001b[0m\u001b[0m\n\u001b[0;32m      3\u001b[0m \u001b[0mr_square_dict\u001b[0m \u001b[1;33m=\u001b[0m \u001b[1;33m{\u001b[0m\u001b[1;33m}\u001b[0m\u001b[1;33m\u001b[0m\u001b[0m\n\u001b[1;32m----> 4\u001b[1;33m \u001b[1;32mfor\u001b[0m \u001b[0mindex\u001b[0m\u001b[1;33m,\u001b[0m \u001b[0mvalue\u001b[0m \u001b[1;32min\u001b[0m \u001b[0menumerate\u001b[0m\u001b[1;33m(\u001b[0m\u001b[0morder_regressors\u001b[0m\u001b[1;33m)\u001b[0m\u001b[1;33m:\u001b[0m\u001b[1;33m\u001b[0m\u001b[0m\n\u001b[0m\u001b[0;32m      5\u001b[0m     \u001b[0mregression_list\u001b[0m \u001b[1;33m=\u001b[0m \u001b[0morder_regressors\u001b[0m\u001b[1;33m[\u001b[0m\u001b[1;36m0\u001b[0m\u001b[1;33m:\u001b[0m\u001b[0mindex\u001b[0m\u001b[1;33m]\u001b[0m\u001b[1;33m\u001b[0m\u001b[0m\n\u001b[0;32m      6\u001b[0m     \u001b[1;32mif\u001b[0m \u001b[0mlen\u001b[0m\u001b[1;33m(\u001b[0m\u001b[0mregression_list\u001b[0m\u001b[1;33m)\u001b[0m \u001b[1;33m!=\u001b[0m \u001b[1;36m0\u001b[0m\u001b[1;33m:\u001b[0m\u001b[1;33m\u001b[0m\u001b[0m\n",
      "\u001b[1;31mNameError\u001b[0m: name 'order_regressors' is not defined"
     ]
    }
   ],
   "source": [
    "#8\n",
    "\n",
    "r_square_dict = {}\n",
    "for index, value in enumerate(order_regressors):\n",
    "    regression_list = order_regressors[0:index]\n",
    "    if len(regression_list) != 0:\n",
    "        current_r_square = rsquared(regression_list)\n",
    "        r_square_dict[index] = current_r_square\n",
    "\n",
    "\n",
    "plot_df = pd.DataFrame(r_square_dict, index=[0])\n",
    "\n",
    "plot_df.columns.name = 'Num of Regressors'\n",
    "\n",
    "plot_df.T.plot(kind = 'bar')\n"
   ]
  },
  {
   "cell_type": "markdown",
   "metadata": {},
   "source": [
    "[Q9 8 points] Create a classiﬁcation target. Attach a new column, called target to the DataFrame, whose value for each row is either 1 (if percentVoting is at least 40.0), or 0 (percentVoting is less than 40.0)."
   ]
  },
  {
   "cell_type": "code",
   "execution_count": null,
   "metadata": {},
   "outputs": [],
   "source": []
  },
  {
   "cell_type": "code",
   "execution_count": 8,
   "metadata": {},
   "outputs": [
    {
     "data": {
      "text/html": [
       "<div>\n",
       "<style scoped>\n",
       "    .dataframe tbody tr th:only-of-type {\n",
       "        vertical-align: middle;\n",
       "    }\n",
       "\n",
       "    .dataframe tbody tr th {\n",
       "        vertical-align: top;\n",
       "    }\n",
       "\n",
       "    .dataframe thead th {\n",
       "        text-align: right;\n",
       "    }\n",
       "</style>\n",
       "<table border=\"1\" class=\"dataframe\">\n",
       "  <thead>\n",
       "    <tr style=\"text-align: right;\">\n",
       "      <th></th>\n",
       "      <th>Country Name</th>\n",
       "      <th>State</th>\n",
       "      <th>percentVoting</th>\n",
       "      <th>MedianAge</th>\n",
       "      <th>MeanSavings</th>\n",
       "      <th>PerCapitaIncome</th>\n",
       "      <th>PercentinPoverty</th>\n",
       "      <th>PercentVeterans</th>\n",
       "      <th>PercentFemale</th>\n",
       "      <th>PopulationDensity</th>\n",
       "      <th>PercentinNursingHomes</th>\n",
       "      <th>CrimeIndex</th>\n",
       "      <th>target</th>\n",
       "    </tr>\n",
       "  </thead>\n",
       "  <tbody>\n",
       "    <tr>\n",
       "      <th>0</th>\n",
       "      <td>Autauga</td>\n",
       "      <td>AL</td>\n",
       "      <td>30.92</td>\n",
       "      <td>31.7</td>\n",
       "      <td>57623</td>\n",
       "      <td>15768.0</td>\n",
       "      <td>15.2</td>\n",
       "      <td>10.74</td>\n",
       "      <td>51.41</td>\n",
       "      <td>60.4</td>\n",
       "      <td>2.36</td>\n",
       "      <td>457.0</td>\n",
       "      <td>0.0</td>\n",
       "    </tr>\n",
       "    <tr>\n",
       "      <th>1</th>\n",
       "      <td>Baldwin</td>\n",
       "      <td>AL</td>\n",
       "      <td>26.24</td>\n",
       "      <td>35.5</td>\n",
       "      <td>84935</td>\n",
       "      <td>16954.0</td>\n",
       "      <td>13.6</td>\n",
       "      <td>9.73</td>\n",
       "      <td>51.34</td>\n",
       "      <td>66.5</td>\n",
       "      <td>5.40</td>\n",
       "      <td>282.0</td>\n",
       "      <td>0.0</td>\n",
       "    </tr>\n",
       "    <tr>\n",
       "      <th>2</th>\n",
       "      <td>Barbour</td>\n",
       "      <td>AL</td>\n",
       "      <td>46.36</td>\n",
       "      <td>32.8</td>\n",
       "      <td>83656</td>\n",
       "      <td>15532.0</td>\n",
       "      <td>25.0</td>\n",
       "      <td>8.82</td>\n",
       "      <td>53.03</td>\n",
       "      <td>28.8</td>\n",
       "      <td>7.02</td>\n",
       "      <td>47.0</td>\n",
       "      <td>1.0</td>\n",
       "    </tr>\n",
       "    <tr>\n",
       "      <th>3</th>\n",
       "      <td>Blount</td>\n",
       "      <td>AL</td>\n",
       "      <td>32.92</td>\n",
       "      <td>34.5</td>\n",
       "      <td>61249</td>\n",
       "      <td>14820.0</td>\n",
       "      <td>15.0</td>\n",
       "      <td>9.67</td>\n",
       "      <td>51.15</td>\n",
       "      <td>62.4</td>\n",
       "      <td>2.36</td>\n",
       "      <td>185.0</td>\n",
       "      <td>0.0</td>\n",
       "    </tr>\n",
       "    <tr>\n",
       "      <th>4</th>\n",
       "      <td>Bullock</td>\n",
       "      <td>AL</td>\n",
       "      <td>67.67</td>\n",
       "      <td>31.7</td>\n",
       "      <td>75725</td>\n",
       "      <td>11120.0</td>\n",
       "      <td>33.0</td>\n",
       "      <td>7.08</td>\n",
       "      <td>50.76</td>\n",
       "      <td>17.6</td>\n",
       "      <td>2.91</td>\n",
       "      <td>141.0</td>\n",
       "      <td>1.0</td>\n",
       "    </tr>\n",
       "  </tbody>\n",
       "</table>\n",
       "</div>"
      ],
      "text/plain": [
       "  Country Name State  percentVoting  MedianAge  MeanSavings  PerCapitaIncome  \\\n",
       "0      Autauga    AL          30.92       31.7        57623          15768.0   \n",
       "1      Baldwin    AL          26.24       35.5        84935          16954.0   \n",
       "2      Barbour    AL          46.36       32.8        83656          15532.0   \n",
       "3       Blount    AL          32.92       34.5        61249          14820.0   \n",
       "4      Bullock    AL          67.67       31.7        75725          11120.0   \n",
       "\n",
       "   PercentinPoverty  PercentVeterans  PercentFemale  PopulationDensity  \\\n",
       "0              15.2            10.74          51.41               60.4   \n",
       "1              13.6             9.73          51.34               66.5   \n",
       "2              25.0             8.82          53.03               28.8   \n",
       "3              15.0             9.67          51.15               62.4   \n",
       "4              33.0             7.08          50.76               17.6   \n",
       "\n",
       "   PercentinNursingHomes  CrimeIndex  target  \n",
       "0                   2.36       457.0     0.0  \n",
       "1                   5.40       282.0     0.0  \n",
       "2                   7.02        47.0     1.0  \n",
       "3                   2.36       185.0     0.0  \n",
       "4                   2.91       141.0     1.0  "
      ]
     },
     "execution_count": 8,
     "metadata": {},
     "output_type": "execute_result"
    }
   ],
   "source": [
    "data_copy = clinton\n",
    "\n",
    "data_copy['target'] = 0.0\n",
    "mask = data_copy['percentVoting'] >= 40.0\n",
    "\n",
    "data_copy.loc[mask, 'target'] = 1.0\n",
    "data_copy[:5]"
   ]
  },
  {
   "cell_type": "markdown",
   "metadata": {},
   "source": [
    "[Q10 8 points] Create training and test sets. Create design matrices for predicting the target using just the two features poverty and popdensity. Split this into design matrices for training and testing datasets, with 70% data being used for training, and 30% for testing."
   ]
  },
  {
   "cell_type": "code",
   "execution_count": 9,
   "metadata": {},
   "outputs": [],
   "source": [
    "from sklearn.model_selection import train_test_split\n",
    "Y, X = dmatrices('target ~ PercentinPoverty + PopulationDensity', data=\n",
    "                 data_copy,return_type=\"dataframe\")\n",
    "\n",
    "y = Y['target'].values\n",
    "\n",
    "\n",
    "X_train, X_test, y_train, y_test = train_test_split(X, y, test_size=0.3, random_state=1)"
   ]
  },
  {
   "cell_type": "markdown",
   "metadata": {},
   "source": [
    "[Q11 12 points] Accuracy of classiﬁcation. Use a K-nearest neighbors classiﬁer to predict the target using the two given features, using 1,3,5,10,20,50,100, and 1000 nearest neighbors respectively. Print out the training and test accuracy for each of these."
   ]
  },
  {
   "cell_type": "code",
   "execution_count": 10,
   "metadata": {},
   "outputs": [
    {
     "name": "stdout",
     "output_type": "stream",
     "text": [
      "Number of Features:  1\n",
      "Accuracy on Training Set:  0.997885835095\n",
      "Accuracy on Testing Set: 0.599753694581\n",
      "\n",
      "Number of Features:  3\n",
      "Accuracy on Training Set:  0.788054968288\n",
      "Accuracy on Testing Set: 0.634236453202\n",
      "\n",
      "Number of Features:  5\n",
      "Accuracy on Training Set:  0.748414376321\n",
      "Accuracy on Testing Set: 0.630541871921\n",
      "\n",
      "Number of Features:  10\n",
      "Accuracy on Training Set:  0.720930232558\n",
      "Accuracy on Testing Set: 0.647783251232\n",
      "\n",
      "Number of Features:  20\n",
      "Accuracy on Training Set:  0.690274841438\n",
      "Accuracy on Testing Set: 0.658866995074\n",
      "\n",
      "Number of Features:  50\n",
      "Accuracy on Training Set:  0.683932346723\n",
      "Accuracy on Testing Set: 0.662561576355\n",
      "\n",
      "Number of Features:  100\n",
      "Accuracy on Training Set:  0.677589852008\n",
      "Accuracy on Testing Set: 0.665024630542\n",
      "\n",
      "Number of Features:  1000\n",
      "Accuracy on Training Set:  0.567653276956\n",
      "Accuracy on Testing Set: 0.576354679803\n",
      "\n"
     ]
    }
   ],
   "source": [
    "from sklearn import neighbors\n",
    "from sklearn import metrics\n",
    "features = [1,3,5,10,20,50,100,1000]\n",
    "\n",
    "for i in features:\n",
    "        \n",
    "    model = neighbors.KNeighborsClassifier(n_neighbors=i,\n",
    "                                       weights='uniform',\n",
    "                                       p=2)\n",
    "    model.fit(X_train, y_train)\n",
    "    \n",
    "    prediction_on_training = model.predict(X_train)\n",
    "    predicted_classes = model.predict(X_test)\n",
    "    \n",
    "    print \"Number of Features: \",i\n",
    "    print \"Accuracy on Training Set: \",metrics.accuracy_score(y_train, prediction_on_training)\n",
    "    print \"Accuracy on Testing Set:\", metrics.accuracy_score(y_test, predicted_classes)\n",
    "    print"
   ]
  },
  {
   "cell_type": "markdown",
   "metadata": {},
   "source": [
    "[Q12 8 points] Plots and reasons. Show a scatter plot of popdensity versus poverty, and color the points according to the target (i.e., each point in the scatter plot represents a county, and the color of the county depends on the value of target for that county). Can you interpret the plot? What types of counties voted for Bill Clinton?"
   ]
  },
  {
   "cell_type": "code",
   "execution_count": 23,
   "metadata": {},
   "outputs": [
    {
     "data": {
      "text/plain": [
       "Text(0,0.5,'Percent in Poverty')"
      ]
     },
     "execution_count": 23,
     "metadata": {},
     "output_type": "execute_result"
    },
    {
     "data": {
      "image/png": "[encoded data removed]",
      "text/plain": [
       "<Figure size 432x288 with 2 Axes>"
      ]
     },
     "metadata": {
      "needs_background": "light"
     },
     "output_type": "display_data"
    }
   ],
   "source": [
    "sc = plt.scatter(data_copy['PopulationDensity'], data_copy['PercentinPoverty'], c=y, cmap='RdYlBu')\n",
    "plt.colorbar(sc)\n",
    "plt.xlabel('Population Density')\n",
    "plt.ylabel('Percent in Poverty')"
   ]
  },
  {
   "cell_type": "markdown",
   "metadata": {},
   "source": [
    "From the graph, it looks the the counties with higher than 5000 population density voted for Clinton. With counties less than 5000, the ones with higher Percent in Poverty also voted for Clinton. The counties with lower than 30 percent in Poverty did not vote for Clinton and most of them stayed below 5000 in population density"
   ]
  }
 ],
 "metadata": {
  "kernelspec": {
   "display_name": "Python 2",
   "language": "python",
   "name": "python2"
  },
  "language_info": {
   "codemirror_mode": {
    "name": "ipython",
    "version": 2
   },
   "file_extension": ".py",
   "mimetype": "text/x-python",
   "name": "python",
   "nbconvert_exporter": "python",
   "pygments_lexer": "ipython2",
   "version": "2.7.16"
  }
 },
 "nbformat": 4,
 "nbformat_minor": 2
}
